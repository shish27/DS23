{
 "cells": [
  {
   "cell_type": "markdown",
   "id": "4ed4ce32-60dd-4a57-94e4-4635c5ecfda3",
   "metadata": {},
   "source": [
    "### Задача 1: Вычисления по цепочке\n",
    "\n",
    "Напишите функцию, которая возвращает значение следующей математической функции в зависимости от переменной х, где x - одномерный вектор.\n",
    "\n",
    "$f(x) = \\frac{1}{2}x^2 arctg(x) + 5cos(2x) + e^{x} + \\log{6x}$\n",
    "\n",
    "Проверьте работу функции на заданном векторе\n"
   ]
  },
  {
   "cell_type": "code",
   "execution_count": 6,
   "id": "84281c41-7cfb-4951-b064-8a13cd001582",
   "metadata": {},
   "outputs": [],
   "source": [
    "import numpy as np"
   ]
  },
  {
   "cell_type": "code",
   "execution_count": 13,
   "id": "99fa8d79-a14c-4185-add3-84f44b6a7643",
   "metadata": {
    "tags": []
   },
   "outputs": [
    {
     "name": "stdout",
     "output_type": "stream",
     "text": [
      "[  67.655245   1136.06254631 8169.51012894]\n"
     ]
    }
   ],
   "source": [
    "x = np.array([4,7,9])\n",
    "F =  0.5 * x**2 * np.arctan(x) + 5 * np.cos(2 * x) + np.exp(x) + np.log(6 * x)\n",
    "print(F)\n"
   ]
  },
  {
   "cell_type": "markdown",
   "id": "91c76d75-d00e-477c-a8a6-081c5385b476",
   "metadata": {},
   "source": [
    "### Задача 2: Вычисления по цепочке\n",
    "\n",
    "Напишите функцию, которая вычисляет значение следующей математической функции в зависимости от переменной х, где х - вектор\n",
    "\n",
    "$F(x) = \\frac{3}{4}AA^Tx + Bx + c$"
   ]
  },
  {
   "cell_type": "code",
   "execution_count": 15,
   "id": "6ac66e0b-933a-435e-8c7b-0719f8240db2",
   "metadata": {},
   "outputs": [
    {
     "name": "stdout",
     "output_type": "stream",
     "text": [
      "[1364.5  1113.25 1454.5 ]\n"
     ]
    }
   ],
   "source": [
    "np.random.seed(42)\n",
    "\n",
    "A = np.random.randint(1, 10, size = (3, 3))\n",
    "B = np.random.randint(1, 10, size = (3, 3))\n",
    "c = np.random.randint(1, 10, size = (3))\n",
    "x = np.random.randint(1, 10, size = (3))\n",
    "\n",
    "F1 = 0.75 * A.dot(A.T).dot(x) + B.dot(x) + c\n",
    "print(F1)"
   ]
  },
  {
   "cell_type": "markdown",
   "id": "c2c4b084-6d61-449b-85ba-66cada288630",
   "metadata": {},
   "source": [
    "### Задача 3: \n",
    "\n",
    "Дана разреженная матрица, преобразуйте ее в csr формат, посчитайте долю разреженности, т.е. содержания нулей"
   ]
  },
  {
   "cell_type": "code",
   "execution_count": 2,
   "id": "1d524781-50e1-49cb-9215-85214428188c",
   "metadata": {},
   "outputs": [],
   "source": [
    "import numpy as np\n",
    "from scipy.sparse import csr_matrix"
   ]
  },
  {
   "cell_type": "code",
   "execution_count": 9,
   "id": "bfd4cc3e-17c7-457c-98cc-1f97f86e028d",
   "metadata": {},
   "outputs": [],
   "source": [
    "np.random.seed(42)\n",
    "\n",
    "A = np.eye(45)\n",
    "A[1, :] = np.random.randint(0, 2, size = (45))"
   ]
  },
  {
   "cell_type": "code",
   "execution_count": 11,
   "id": "d7be9a0f-b54c-427d-921c-1ffb4265116b",
   "metadata": {},
   "outputs": [
    {
     "data": {
      "text/plain": [
       "array([[1., 0., 0., ..., 0., 0., 0.],\n",
       "       [0., 1., 0., ..., 1., 1., 1.],\n",
       "       [0., 0., 1., ..., 0., 0., 0.],\n",
       "       ...,\n",
       "       [0., 0., 0., ..., 1., 0., 0.],\n",
       "       [0., 0., 0., ..., 0., 1., 0.],\n",
       "       [0., 0., 0., ..., 0., 0., 1.]])"
      ]
     },
     "execution_count": 11,
     "metadata": {},
     "output_type": "execute_result"
    }
   ],
   "source": [
    "A"
   ]
  },
  {
   "cell_type": "code",
   "execution_count": 14,
   "id": "ff87f310-fdf0-4994-b77a-1e6c16b0201b",
   "metadata": {
    "collapsed": true,
    "jupyter": {
     "outputs_hidden": true
    },
    "tags": []
   },
   "outputs": [
    {
     "name": "stdout",
     "output_type": "stream",
     "text": [
      "  (0, 0)\t1.0\n",
      "  (1, 1)\t1.0\n",
      "  (1, 5)\t1.0\n",
      "  (1, 9)\t1.0\n",
      "  (1, 14)\t1.0\n",
      "  (1, 16)\t1.0\n",
      "  (1, 17)\t1.0\n",
      "  (1, 18)\t1.0\n",
      "  (1, 20)\t1.0\n",
      "  (1, 22)\t1.0\n",
      "  (1, 23)\t1.0\n",
      "  (1, 24)\t1.0\n",
      "  (1, 25)\t1.0\n",
      "  (1, 26)\t1.0\n",
      "  (1, 27)\t1.0\n",
      "  (1, 28)\t1.0\n",
      "  (1, 29)\t1.0\n",
      "  (1, 32)\t1.0\n",
      "  (1, 33)\t1.0\n",
      "  (1, 34)\t1.0\n",
      "  (1, 36)\t1.0\n",
      "  (1, 42)\t1.0\n",
      "  (1, 43)\t1.0\n",
      "  (1, 44)\t1.0\n",
      "  (2, 2)\t1.0\n",
      "  :\t:\n",
      "  (20, 20)\t1.0\n",
      "  (21, 21)\t1.0\n",
      "  (22, 22)\t1.0\n",
      "  (23, 23)\t1.0\n",
      "  (24, 24)\t1.0\n",
      "  (25, 25)\t1.0\n",
      "  (26, 26)\t1.0\n",
      "  (27, 27)\t1.0\n",
      "  (28, 28)\t1.0\n",
      "  (29, 29)\t1.0\n",
      "  (30, 30)\t1.0\n",
      "  (31, 31)\t1.0\n",
      "  (32, 32)\t1.0\n",
      "  (33, 33)\t1.0\n",
      "  (34, 34)\t1.0\n",
      "  (35, 35)\t1.0\n",
      "  (36, 36)\t1.0\n",
      "  (37, 37)\t1.0\n",
      "  (38, 38)\t1.0\n",
      "  (39, 39)\t1.0\n",
      "  (40, 40)\t1.0\n",
      "  (41, 41)\t1.0\n",
      "  (42, 42)\t1.0\n",
      "  (43, 43)\t1.0\n",
      "  (44, 44)\t1.0\n",
      "0.9669135802469135\n"
     ]
    }
   ],
   "source": [
    "aA = csr_matrix(A)\n",
    "print (aA)\n",
    "\n",
    "Z = 1.0 - np.count_nonzero(A) / A.size\n",
    "print (Z)"
   ]
  },
  {
   "cell_type": "markdown",
   "id": "f769bb49-2f69-45ad-968f-ef64e728fcba",
   "metadata": {},
   "source": [
    "### Задача 4\n",
    "\n",
    "Даны две разреженные матрицы, преобразуйте их в формат csr и посчитайте:\n",
    "\n",
    "* сумму двух матриц\n",
    "* матричное произведение двух матриц\n",
    "* выведите на экран сумму и произведение, предварительно преобразовав их обратно в \"плотный\" формат (метод .todense)"
   ]
  },
  {
   "cell_type": "code",
   "execution_count": 2,
   "id": "9c713cff-4548-4627-b174-3b4add3d667e",
   "metadata": {},
   "outputs": [],
   "source": [
    "import numpy as np\n",
    "from scipy.sparse import csr_matrix"
   ]
  },
  {
   "cell_type": "code",
   "execution_count": 3,
   "id": "d19c8108-4a89-4220-8336-aac0b71a05a7",
   "metadata": {},
   "outputs": [],
   "source": [
    "np.random.seed(42)\n",
    "\n",
    "A = np.eye(40)\n",
    "A[4, :] = np.random.randint(0, 2, size = (40))\n",
    "\n",
    "B = np.eye(40)\n",
    "B[36, :] = np.random.randint(0, 2, size = (40))\n",
    "B[:, 5] = np.random.randint(0, 2, size = (40))\n"
   ]
  },
  {
   "cell_type": "code",
   "execution_count": 4,
   "id": "29325629-5344-4760-8392-3a95488c6427",
   "metadata": {},
   "outputs": [],
   "source": [
    "Ac = csr_matrix(A)\n",
    "Bc = csr_matrix(B)\n",
    "\n"
   ]
  },
  {
   "cell_type": "code",
   "execution_count": 8,
   "id": "efe8e95b-a136-4620-bdf8-7049d033a823",
   "metadata": {
    "tags": []
   },
   "outputs": [],
   "source": [
    "S = Ac + Bc\n",
    "M = Ac.dot(Bc)"
   ]
  },
  {
   "cell_type": "code",
   "execution_count": 9,
   "id": "ae86a2f4-a71d-4b09-bbf3-f823a2450dd8",
   "metadata": {
    "tags": []
   },
   "outputs": [
    {
     "data": {
      "text/plain": [
       "matrix([[2., 0., 0., ..., 0., 0., 0.],\n",
       "        [0., 2., 0., ..., 0., 0., 0.],\n",
       "        [0., 0., 2., ..., 0., 0., 0.],\n",
       "        ...,\n",
       "        [0., 0., 0., ..., 2., 0., 0.],\n",
       "        [0., 0., 0., ..., 0., 2., 0.],\n",
       "        [0., 0., 0., ..., 0., 0., 2.]])"
      ]
     },
     "execution_count": 9,
     "metadata": {},
     "output_type": "execute_result"
    }
   ],
   "source": [
    "S.todense()"
   ]
  },
  {
   "cell_type": "code",
   "execution_count": 11,
   "id": "f419e645-c965-4a0d-8e2f-27a96404880c",
   "metadata": {},
   "outputs": [
    {
     "data": {
      "text/plain": [
       "matrix([[1., 0., 0., ..., 0., 0., 0.],\n",
       "        [0., 1., 0., ..., 0., 0., 0.],\n",
       "        [0., 0., 1., ..., 0., 0., 0.],\n",
       "        ...,\n",
       "        [0., 0., 0., ..., 1., 0., 0.],\n",
       "        [0., 0., 0., ..., 0., 1., 0.],\n",
       "        [0., 0., 0., ..., 0., 0., 1.]])"
      ]
     },
     "execution_count": 11,
     "metadata": {},
     "output_type": "execute_result"
    }
   ],
   "source": [
    "M.todense()"
   ]
  }
 ],
 "metadata": {
  "kernelspec": {
   "display_name": "Python 3 (ipykernel)",
   "language": "python",
   "name": "python3"
  },
  "language_info": {
   "codemirror_mode": {
    "name": "ipython",
    "version": 3
   },
   "file_extension": ".py",
   "mimetype": "text/x-python",
   "name": "python",
   "nbconvert_exporter": "python",
   "pygments_lexer": "ipython3",
   "version": "3.9.13"
  }
 },
 "nbformat": 4,
 "nbformat_minor": 5
}
