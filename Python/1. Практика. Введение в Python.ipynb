{
 "cells": [
  {
   "cell_type": "markdown",
   "id": "9e45b4fe-aa4c-47e6-b790-c909a992c1ea",
   "metadata": {},
   "source": [
    "Задача 1\n",
    "Считайте с входящей строки два целых числа и выведите их произведение. Если произведение больше 1000, то дополнительно выведите сумму чисел."
   ]
  },
  {
   "cell_type": "code",
   "execution_count": 6,
   "id": "a1bcd844-de64-419b-8bd6-fe4a59264aee",
   "metadata": {},
   "outputs": [
    {
     "name": "stdin",
     "output_type": "stream",
     "text": [
      "введите первое число:  78\n",
      "введите второе число:  67\n"
     ]
    },
    {
     "name": "stdout",
     "output_type": "stream",
     "text": [
      "Произведение чисел равно:  5226\n",
      "Сумма чисел равна:  145\n"
     ]
    }
   ],
   "source": [
    "x = int(input(\"введите первое число: \"))\n",
    "y = int(input(\"введите второе число: \"))\n",
    "z = x*y\n",
    "print ( \"Произведение чисел равно: \", z)\n",
    "if z > 1000:\n",
    "    print (\"Сумма чисел равна: \", x+y)"
   ]
  },
  {
   "cell_type": "markdown",
   "id": "f9c2ec79-49c0-4668-b6df-00c3034760d2",
   "metadata": {},
   "source": [
    "Задача 2\n",
    "Дан ряд целых чисел от 5 до 12 включительно. Используя цикл for выведите на экран сумму двух последовательно идущих чисел."
   ]
  },
  {
   "cell_type": "code",
   "execution_count": 1,
   "id": "f58042a7-bac8-4f1b-a62e-e6a534981670",
   "metadata": {},
   "outputs": [
    {
     "name": "stdout",
     "output_type": "stream",
     "text": [
      "5 + 6 = 11\n",
      "6 + 7 = 13\n",
      "7 + 8 = 15\n",
      "8 + 9 = 17\n",
      "9 + 10 = 19\n",
      "10 + 11 = 21\n",
      "11 + 12 = 23\n"
     ]
    }
   ],
   "source": [
    "for i in range(5, 12):\n",
    "    print(i, '+', i+1, '=', i+(i+1))"
   ]
  },
  {
   "cell_type": "markdown",
   "id": "9b54252e-4354-4fca-a3f3-afffb5894484",
   "metadata": {},
   "source": [
    "Задача 3¶\n",
    "Для ряда целых чисел от 10 до 20 включительно выведите на экран только те, что делятся на 2 без остатка."
   ]
  },
  {
   "cell_type": "code",
   "execution_count": 3,
   "id": "b178aa6c-ec48-4840-955f-839439edb9ea",
   "metadata": {},
   "outputs": [
    {
     "name": "stdout",
     "output_type": "stream",
     "text": [
      "10\n",
      "12\n",
      "14\n",
      "16\n",
      "18\n",
      "20\n"
     ]
    }
   ],
   "source": [
    "for i in range (10, 21):\n",
    "    if i % 2 == 0:\n",
    "        print (i);"
   ]
  },
  {
   "cell_type": "markdown",
   "id": "961ecab8-f2fd-45c5-967b-4721e67d0dcc",
   "metadata": {},
   "source": [
    "Задача 4\n",
    "Считайте с входящей строки целое положительное число и сохраните его в переменную N. Используя кострукцию if...else выведите на экран результат в зависимости от условий:\n",
    "\n",
    "Если N нечетное, то выведите на экран \"N нечетное\"\n",
    "Если N четное и входит в интервал от 5 до 10 включительно, выведите на экран \"N четное и принадлежит интервалу [5, 10]\"\n",
    "Если N четное и больше 10, выведите на экран \"N четное и N > 10\"\n",
    "Если N четное и меньше 5, выведите на экран \"N четное и N < 5\""
   ]
  },
  {
   "cell_type": "code",
   "execution_count": 21,
   "id": "62aa08ac-e527-499f-ae17-bce563e2f9eb",
   "metadata": {},
   "outputs": [
    {
     "name": "stdin",
     "output_type": "stream",
     "text": [
      "Введите целое положительное число:  -10\n"
     ]
    },
    {
     "name": "stdout",
     "output_type": "stream",
     "text": [
      "Вы ввели неподходящее значение\n"
     ]
    }
   ],
   "source": [
    "N = int(input(\"Введите целое положительное число: \"))\n",
    "if N > 0:\n",
    "    if N % 2 != 0:\n",
    "        print('N нечётное')\n",
    "    else: \n",
    "        if N > 5 and N <= 10:\n",
    "            print('N четное и принадлежит интервалу [5, 10]')\n",
    "        elif N > 10:\n",
    "            print('N четное и N > 10')\n",
    "        elif N < 5:\n",
    "            print('N четное и N < 5')\n",
    "else:\n",
    "    print('Вы ввели неподходящее значение')"
   ]
  },
  {
   "cell_type": "markdown",
   "id": "79675e08-cbe8-4319-b49c-0390a5bb92b9",
   "metadata": {},
   "source": [
    "Задача 5\n",
    "Используя цикл while, посчитайте и выведите на экран сумму всех целых чисел от 2 до 7 включительно."
   ]
  },
  {
   "cell_type": "code",
   "execution_count": 23,
   "id": "4fc178de-8934-4ec2-ba02-ca01317990e2",
   "metadata": {},
   "outputs": [
    {
     "name": "stdout",
     "output_type": "stream",
     "text": [
      "Сумма целых чисел от 2 до 7 включительно равна  27\n"
     ]
    }
   ],
   "source": [
    "i = 2\n",
    "s = 0\n",
    "while i <= 7:\n",
    "    s = i + s\n",
    "    i += 1\n",
    "print (\"Сумма целых чисел от 2 до 7 включительно равна \", s)"
   ]
  },
  {
   "cell_type": "markdown",
   "id": "4f69a6e0-1204-4564-a94a-c8ea1c4cb8f9",
   "metadata": {},
   "source": [
    "Задача 6\n",
    "Используя цикл for, найдите сумму всех элементов заданного списка. (Без использования встроенных функций sum и т.д.)"
   ]
  },
  {
   "cell_type": "code",
   "execution_count": 24,
   "id": "a003df4c-8e29-4dc1-a200-ddf982566399",
   "metadata": {},
   "outputs": [
    {
     "name": "stdout",
     "output_type": "stream",
     "text": [
      "21\n"
     ]
    }
   ],
   "source": [
    "q_list = [2, 5, 6, 8]\n",
    "s = 0\n",
    "for q in q_list:\n",
    "    s = s + q\n",
    "print (s)\n"
   ]
  },
  {
   "cell_type": "markdown",
   "id": "9431f19c-fc59-48d7-b0a2-81ab02911833",
   "metadata": {},
   "source": [
    "Задача 7\n",
    "Напишите функцию, которая принимает на вход список из предыдущего задания и возвращает сумму всех элементов списка. (Без использования встроенных функций sum и т.д.)"
   ]
  },
  {
   "cell_type": "code",
   "execution_count": 29,
   "id": "c829e60f-2cfe-40ad-be52-ab15ec74c27f",
   "metadata": {},
   "outputs": [
    {
     "name": "stdout",
     "output_type": "stream",
     "text": [
      "21\n"
     ]
    }
   ],
   "source": [
    "q_list = [2, 5, 6, 8]\n",
    "def q_sum (q_list):\n",
    "    s = 0\n",
    "    for q in q_list:\n",
    "        s = s + q\n",
    "    return print(s)\n",
    "q_sum (q_list)"
   ]
  },
  {
   "cell_type": "markdown",
   "id": "206fd29e-2d69-43a4-9254-a68d05a6cd30",
   "metadata": {},
   "source": [
    "Задача 8\n",
    "Используя цикл (любой) найдите значение максимального элемента списка из предыдущего задания. (Без использования встроенных функций max и т.д.) Можно использовать встроенные методы списков (любые)."
   ]
  },
  {
   "cell_type": "code",
   "execution_count": 34,
   "id": "b8c203f0-b8fc-4242-b8b7-8980aecc44cd",
   "metadata": {},
   "outputs": [
    {
     "name": "stdout",
     "output_type": "stream",
     "text": [
      "8\n"
     ]
    }
   ],
   "source": [
    "q_list = [2, 5, 6, 8]\n",
    "q_max = q_list[0]\n",
    "for i in range (1, len(q_list)):\n",
    "    if q_list[i] > q_max:\n",
    "        q_max = q_list[i]\n",
    "print (q_max)\n"
   ]
  },
  {
   "cell_type": "markdown",
   "id": "04b2b567-7e6c-46d3-85ae-5bf8abe0cb85",
   "metadata": {},
   "source": [
    "Задача 9\n",
    "Напишите функцию, которая принимает на вход список из предыдущего задания и возвращает его максимальный элемент. (Без использования встроенных функций max и т.д.) Можно использовать встроенные методы списков (любые). Т.е. заверните решение предыдущего задания в функцию."
   ]
  },
  {
   "cell_type": "code",
   "execution_count": 36,
   "id": "265c21fa-8aff-48d4-ae47-9cbf3a1efd94",
   "metadata": {},
   "outputs": [
    {
     "name": "stdout",
     "output_type": "stream",
     "text": [
      "8\n"
     ]
    }
   ],
   "source": [
    "q_list = [2, 5, 6, 8]\n",
    "def q_maximum (q_list):\n",
    "    q_max = q_list[0]\n",
    "    for i in range (1, len(q_list)):\n",
    "        if q_list[i] > q_max:\n",
    "            q_max = q_list[i]\n",
    "    return print (q_max)\n",
    "q_maximum (q_list)"
   ]
  },
  {
   "cell_type": "markdown",
   "id": "cf7a921b-83ab-49e5-8ce7-857f6ae614d9",
   "metadata": {},
   "source": [
    "Задача 10\n",
    "Используя список из предыдущего задания создайте кортеж и назовите его my_tuple. Найдите индекс элемента, который равен 5.\n"
   ]
  },
  {
   "cell_type": "code",
   "execution_count": null,
   "id": "5a0fbb84-d1ff-4896-93f8-a600c762c5a4",
   "metadata": {},
   "outputs": [],
   "source": [
    "q_list = [2, 5, 6, 8]\n",
    "my_tuple = tuple(q_list)\n"
   ]
  },
  {
   "cell_type": "markdown",
   "id": "4a55d951-979e-446b-aac7-95c97c907fc9",
   "metadata": {},
   "source": [
    "Задача 11\n",
    "\n",
    "Создайте словарь, соответствующий следующему описанию:\n",
    "\n",
    "В честь 8 марта начальник отдела Валера решил принести на работу коробку конфет и угостить коллег :) Красотка Наташа съела две конфеты, ее подруга Алина - целых три, разработчик Марат унес с собой в соседний опен-спейс целых пятнадцать, чтобы поделиться со своей командой, менеджер проекта Лев проходил мимо и съел одну конфету, а сам Валера, будучи сторонником здорового образа жизни, ни съел ни одной.\n",
    "\n",
    "P.S. все совпадения случайны :)"
   ]
  },
  {
   "cell_type": "code",
   "execution_count": 2,
   "id": "4571fe88-9ee8-4b09-b903-f081cc395037",
   "metadata": {},
   "outputs": [
    {
     "name": "stdout",
     "output_type": "stream",
     "text": [
      "{'Наташа': 2, 'Алина': 3, 'Марат': 15, 'Лев': 1, 'Валера': 0}\n"
     ]
    }
   ],
   "source": [
    "candy= {\"Наташа\":2,\n",
    "        \"Алина\":3,\n",
    "        \"Марат\":15,\n",
    "        \"Лев\":1,\n",
    "        \"Валера\":0}\n",
    "\n",
    "print(candy)\n",
    "        \n",
    "        "
   ]
  },
  {
   "cell_type": "markdown",
   "id": "da0571a0-406b-4baf-a89d-ac207dc55390",
   "metadata": {},
   "source": [
    "Задача 12\n",
    "\n",
    "Добавьте в словарь из предыдущего задания данные для студента Ромы, который работает неполный рабочий день, и, придя на работу после экзамена, с удовольствием съел 4 конфеты.\n",
    "\n",
    "P.S. используйте встроенный метод .update"
   ]
  },
  {
   "cell_type": "code",
   "execution_count": 3,
   "id": "b4ae342f-3e4e-4438-8a94-c7fc54be56cb",
   "metadata": {},
   "outputs": [
    {
     "name": "stdout",
     "output_type": "stream",
     "text": [
      "{'Наташа': 2, 'Алина': 3, 'Марат': 15, 'Лев': 1, 'Валера': 0, 'Рома': 4}\n"
     ]
    }
   ],
   "source": [
    "candy.update({\"Рома\":4})\n",
    "print(candy)\n"
   ]
  },
  {
   "cell_type": "markdown",
   "id": "8a5c1a7b-b3db-4969-ab63-a1a91a4a4078",
   "metadata": {},
   "source": [
    "Задача 13\n",
    "\n",
    "Двое друзей решили отправиться в путешествия. Дима посетил следующие страны: Украина, Египет, США, Германия, Дания. Алина же побывала на Украине, в Египте, Испании, Тунисе, Германии, Швейцарии.\n",
    "\n",
    "Создайте два множества (set), соответствующие странам, которые посетили Дима и Алина.\n",
    "\n",
    "Найдите:\n",
    "* только те страны, в которых побывали и Дима, и Алина (пересечение)\n",
    "* все страны, которые посетили друзья (объединение)\n",
    "* страны, в которых Алина побывала, а Дима еще нет"
   ]
  },
  {
   "cell_type": "code",
   "execution_count": 7,
   "id": "406cb79d-0c9b-401f-b39c-083a749b47e3",
   "metadata": {},
   "outputs": [
    {
     "name": "stdout",
     "output_type": "stream",
     "text": [
      "страны, в которых побывали и Дима, и Алина  {'Украина', 'Египет', 'Германия'}\n",
      "страны, которые посетили друзья  {'Украина', 'Египет', 'Испания', 'Дания', 'Тунис', 'Германия', 'Швейцария', 'США'}\n",
      "страны, в которых Алина побывала, а Дима еще нет {'Тунис', 'Швейцария', 'Испания'}\n"
     ]
    }
   ],
   "source": [
    "DimaCountrySet = {\"Украина\", \"Египет\", \"США\", \"Германия\", \"Дания\"}\n",
    "AlinaCountrySet = {\"Украина\", \"Египет\", \"Испания\", \"Тунис\", \"Германия\", \"Швейцария\"}\n",
    "\n",
    "print(\"страны, в которых побывали и Дима, и Алина \", DimaCountrySet & AlinaCountrySet)\n",
    "print(\"страны, которые посетили друзья \", DimaCountrySet | AlinaCountrySet)\n",
    "print(\"страны, в которых Алина побывала, а Дима еще нет\", AlinaCountrySet - DimaCountrySet)"
   ]
  },
  {
   "cell_type": "markdown",
   "id": "1afeccb4-d375-4743-b0d2-1749ed8f314a",
   "metadata": {},
   "source": [
    "Задача 14\n",
    "\n",
    "Используя lambda функцию напишите функцию, которая возводит числа в квадрат. Используя написанную функцию, найдите квадрат числа 12."
   ]
  },
  {
   "cell_type": "code",
   "execution_count": 8,
   "id": "fe88d59b-c24b-493c-adf9-3a36243b1e68",
   "metadata": {},
   "outputs": [
    {
     "data": {
      "text/plain": [
       "144"
      ]
     },
     "execution_count": 8,
     "metadata": {},
     "output_type": "execute_result"
    }
   ],
   "source": [
    "f = lambda x: x*x\n",
    "f(12)"
   ]
  },
  {
   "cell_type": "markdown",
   "id": "1b7aab9c-9ea8-4fe7-b13c-10b0d2debbb7",
   "metadata": {},
   "source": [
    "Задача 15\n",
    "\n",
    "Создайте класс окружность с атрибутом радиус. В классе должны быть следующие методы:\n",
    "\n",
    "расчет диаметра\n",
    "расчет длины окружности\n",
    "расчет площади\n",
    "Продемонстрируйте правильность работы кода"
   ]
  },
  {
   "cell_type": "code",
   "execution_count": 33,
   "id": "192c3082-84ed-48aa-8ae8-18ec2ede44c3",
   "metadata": {},
   "outputs": [
    {
     "name": "stdout",
     "output_type": "stream",
     "text": [
      "Диаметр окружности: 12\n",
      "Длина окружности: 37.68\n",
      "Площадь окружности: 113.04\n"
     ]
    }
   ],
   "source": [
    "class Сircle: \n",
    "    global pi\n",
    "    pi = 3.14\n",
    "    #конструктор класса\n",
    "    def __init__(self, radius):\n",
    "        self.radius = radius\n",
    "        \n",
    "    #расчет диаметра\n",
    "    def diameter (self):\n",
    "        return self.radius * 2\n",
    "    \n",
    "    #расчет длины окружности\n",
    "    def length(self):\n",
    "        return 2 * self.radius * pi\n",
    "    \n",
    "    #расчет площади\n",
    "    def area(self):\n",
    "        return pi * self.radius**2\n",
    "\n",
    "\n",
    "rad = Сircle(6)\n",
    "\n",
    "print(\"Диаметр окружности:\",rad.diameter())\n",
    "print(\"Длина окружности:\",rad.length())\n",
    "print(\"Площадь окружности:\",rad.area())"
   ]
  },
  {
   "cell_type": "markdown",
   "id": "e55f6cba-76a0-4828-8cee-3d9c1059ccd4",
   "metadata": {},
   "source": [
    "Задача 16\n",
    "\n",
    "Создайте класс прямоугольник с атрибутами длина и ширина. В классе должны быть следующие методы:\n",
    "\n",
    "расчет площади прямоугольника\n",
    "расчет диагонали прямоугольника\n",
    "расчет радиуса описанной вокруг прямоугольника окружности\n",
    "расчет площади описанной окружности\n",
    "расчет площади вписанной окружности\n",
    "расчет длины окружности вписанной окружности\n",
    "расчет длины окружности описанной окружности"
   ]
  },
  {
   "cell_type": "code",
   "execution_count": 39,
   "id": "580826f4-7c0d-4c25-9736-c47747590c01",
   "metadata": {},
   "outputs": [
    {
     "name": "stdout",
     "output_type": "stream",
     "text": [
      "Площадь прямоугольника:  18\n",
      "Диагональ прямоугольника:  6.708203932499369\n",
      "Радиус описанной окружности:  3.3541019662496847\n",
      "Площадь описанной окружности:  35.32500000000001\n",
      "Площадь вписанной окружности:  7.065\n",
      "Длина вписанной окружности:  9.42\n",
      "Длина описанной окружности:  21.06376034804802\n"
     ]
    }
   ],
   "source": [
    "class Rectangle:\n",
    "    global pi\n",
    "    pi = 3.14\n",
    "    #конструктор класса\n",
    "    def __init__ (self, length, width):\n",
    "        self.length = length\n",
    "        self.width = width\n",
    "        \n",
    "    #расчет площади\n",
    "    def area (self):\n",
    "        return self.length * self.width\n",
    "    \n",
    "    #расчет диагонали\n",
    "    def diagonal (self):\n",
    "        return (self.length**2 + self.width**2)**0.5\n",
    "    \n",
    "    #расчет радиуса описанной окружности\n",
    "    def radius (self):\n",
    "        return ((self.length**2 + self.width**2)**0.5)/2\n",
    "    \n",
    "    #расчет площади описанной окружности\n",
    "    def areaСircle (self):\n",
    "        return pi * (((self.length**2 + self.width**2)**0.5)/2)**2\n",
    "    \n",
    "    #расчет площади вписанной окружности\n",
    "    def areaCircleInscrib (self):\n",
    "        return pi * (self.width / 2)**2\n",
    "    \n",
    "    #расчет длины вписанной окружности\n",
    "    def lengthInscrib (self):\n",
    "        return 2 * (self.width / 2) * pi\n",
    "    \n",
    "    #расчет длины описанной окружности\n",
    "    def lengthExternal (self):\n",
    "        return 2 * (((self.length**2 + self.width**2)**0.5)/2) * pi\n",
    "\n",
    "rct = Rectangle (6,3)\n",
    "print(\"Площадь прямоугольника: \", rct.area())\n",
    "print(\"Диагональ прямоугольника: \", rct.diagonal())\n",
    "print(\"Радиус описанной окружности: \", rct.radius())\n",
    "print(\"Площадь описанной окружности: \", rct.areaСircle())\n",
    "print(\"Площадь вписанной окружности: \", rct.areaCircleInscrib())\n",
    "print(\"Длина вписанной окружности: \", rct.lengthInscrib())\n",
    "print(\"Длина описанной окружности: \", rct.lengthExternal())"
   ]
  },
  {
   "cell_type": "code",
   "execution_count": null,
   "id": "e8dddc36-8640-4ca4-a18c-4a84d04f78ff",
   "metadata": {},
   "outputs": [],
   "source": []
  }
 ],
 "metadata": {
  "kernelspec": {
   "display_name": "Python 3 (ipykernel)",
   "language": "python",
   "name": "python3"
  },
  "language_info": {
   "codemirror_mode": {
    "name": "ipython",
    "version": 3
   },
   "file_extension": ".py",
   "mimetype": "text/x-python",
   "name": "python",
   "nbconvert_exporter": "python",
   "pygments_lexer": "ipython3",
   "version": "3.9.13"
  }
 },
 "nbformat": 4,
 "nbformat_minor": 5
}
